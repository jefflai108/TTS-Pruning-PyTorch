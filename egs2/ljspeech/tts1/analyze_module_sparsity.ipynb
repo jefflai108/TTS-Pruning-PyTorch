{
 "cells": [
  {
   "cell_type": "code",
   "execution_count": 3,
   "id": "a7570e8d",
   "metadata": {},
   "outputs": [],
   "source": [
    "import torch "
   ]
  },
  {
   "cell_type": "code",
   "execution_count": 32,
   "id": "3ed81258",
   "metadata": {},
   "outputs": [],
   "source": [
    "def transformer_module_ration(model):\n",
    "    encoder_sum_list, encoder_zero_sum = 0, 0\n",
    "    decoder_prenet_sum_list, decoder_prenet_zero_sum = 0, 0\n",
    "    decoder_decoder_sum_list, decoder_decoder_zero_sum = 0, 0 \n",
    "    decoder_postnet_sum_list, decoder_postnet_zero_sum = 0, 0\n",
    "\n",
    "    for key, value in model.items():\n",
    "        if 'tts.encoder' in key and 'embed' not in key: \n",
    "            encoder_sum_list += float(value.nelement())\n",
    "            encoder_zero_sum += float(torch.sum(value == 0))\n",
    "        elif 'prenet' in key: \n",
    "            decoder_prenet_sum_list += float(value.nelement())\n",
    "            decoder_prenet_zero_sum += float(torch.sum(value == 0))\n",
    "        elif 'tts.decoder.decoders' in key: \n",
    "            decoder_decoder_sum_list += float(value.nelement())\n",
    "            decoder_decoder_zero_sum += float(torch.sum(value == 0))\n",
    "        elif 'tts.postnet.postnet' in key:\n",
    "            decoder_postnet_sum_list += float(value.nelement())\n",
    "            decoder_postnet_zero_sum += float(torch.sum(value == 0))\n",
    "\n",
    "    print('encoder sparsity ratio is %.4f' % (encoder_zero_sum/encoder_sum_list))\n",
    "    print('decoder prenet sparsity ratio is %.4f' % (decoder_prenet_zero_sum/decoder_prenet_sum_list))\n",
    "    print('decoder decoder sparsity ratio is %.4f' % (decoder_decoder_zero_sum/decoder_decoder_sum_list))\n",
    "    print('decoder postnet sparsity ratio is %.4f' % (decoder_postnet_zero_sum/decoder_postnet_sum_list))\n"
   ]
  },
  {
   "cell_type": "code",
   "execution_count": 35,
   "id": "d7fe5fad",
   "metadata": {},
   "outputs": [
    {
     "name": "stdout",
     "output_type": "stream",
     "text": [
      "sparsity is 0.1\n",
      "encoder sparsity ratio is 0.0944\n",
      "decoder prenet sparsity ratio is 0.3940\n",
      "decoder decoder sparsity ratio is 0.0986\n",
      "decoder postnet sparsity ratio is 0.1503\n",
      "sparsity is 0.2\n",
      "encoder sparsity ratio is 0.1897\n",
      "decoder prenet sparsity ratio is 0.5262\n",
      "decoder decoder sparsity ratio is 0.1979\n",
      "decoder postnet sparsity ratio is 0.3017\n",
      "sparsity is 0.3\n",
      "encoder sparsity ratio is 0.2854\n",
      "decoder prenet sparsity ratio is 0.6097\n",
      "decoder decoder sparsity ratio is 0.2971\n",
      "decoder postnet sparsity ratio is 0.4582\n",
      "sparsity is 0.4\n",
      "encoder sparsity ratio is 0.3813\n",
      "decoder prenet sparsity ratio is 0.6725\n",
      "decoder decoder sparsity ratio is 0.3960\n",
      "decoder postnet sparsity ratio is 0.6209\n",
      "sparsity is 0.5\n",
      "encoder sparsity ratio is 0.4659\n",
      "decoder prenet sparsity ratio is 0.7056\n",
      "decoder decoder sparsity ratio is 0.5017\n",
      "decoder postnet sparsity ratio is 0.7956\n",
      "sparsity is 0.6\n",
      "encoder sparsity ratio is 0.5671\n",
      "decoder prenet sparsity ratio is 0.7560\n",
      "decoder decoder sparsity ratio is 0.5965\n",
      "decoder postnet sparsity ratio is 0.9692\n",
      "sparsity is 0.7\n",
      "encoder sparsity ratio is 0.6737\n",
      "decoder prenet sparsity ratio is 0.7918\n",
      "decoder decoder sparsity ratio is 0.6969\n",
      "decoder postnet sparsity ratio is 0.9988\n",
      "sparsity is 0.75\n",
      "encoder sparsity ratio is 0.7219\n",
      "decoder prenet sparsity ratio is 0.7935\n",
      "decoder decoder sparsity ratio is 0.7514\n",
      "decoder postnet sparsity ratio is 0.9988\n",
      "sparsity is 0.8\n",
      "encoder sparsity ratio is 0.7774\n",
      "decoder prenet sparsity ratio is 0.8169\n",
      "decoder decoder sparsity ratio is 0.8011\n",
      "decoder postnet sparsity ratio is 0.9988\n",
      "sparsity is 0.85\n",
      "encoder sparsity ratio is 0.8306\n",
      "decoder prenet sparsity ratio is 0.8197\n",
      "decoder decoder sparsity ratio is 0.8522\n",
      "decoder postnet sparsity ratio is 0.9988\n",
      "sparsity is 0.9\n",
      "encoder sparsity ratio is 0.8866\n",
      "decoder prenet sparsity ratio is 0.8264\n",
      "decoder decoder sparsity ratio is 0.9016\n",
      "decoder postnet sparsity ratio is 0.9988\n",
      "sparsity is 0.95\n",
      "encoder sparsity ratio is 0.9457\n",
      "decoder prenet sparsity ratio is 0.8242\n",
      "decoder decoder sparsity ratio is 0.9489\n",
      "decoder postnet sparsity ratio is 0.9988\n",
      "sparsity is 0.99\n",
      "encoder sparsity ratio is 0.9918\n",
      "decoder prenet sparsity ratio is 0.8465\n",
      "decoder decoder sparsity ratio is 0.9873\n",
      "decoder postnet sparsity ratio is 0.9988\n"
     ]
    }
   ],
   "source": [
    "for sparsity in [0.1, 0.2, 0.3, 0.4, 0.5, 0.6, 0.7, 0.75, 0.8, 0.85, 0.9, 0.95, 0.99]:\n",
    "    print('sparsity is', sparsity)\n",
    "    path = 'exp/ljspeech_tts_train_transformer_raw_phn_tacotron_g2p_en_no_space/tts_pretrained-valid.loss.best-prune_at_' + str(sparsity) + '/valid.loss.best.pth'\n",
    "    model = torch.load(path, map_location=torch.device('cpu'))\n",
    "    transformer_module_ration(model)"
   ]
  }
 ],
 "metadata": {
  "kernelspec": {
   "display_name": "Python 3 (ipykernel)",
   "language": "python",
   "name": "python3"
  },
  "language_info": {
   "codemirror_mode": {
    "name": "ipython",
    "version": 3
   },
   "file_extension": ".py",
   "mimetype": "text/x-python",
   "name": "python",
   "nbconvert_exporter": "python",
   "pygments_lexer": "ipython3",
   "version": "3.8.10"
  }
 },
 "nbformat": 4,
 "nbformat_minor": 5
}
